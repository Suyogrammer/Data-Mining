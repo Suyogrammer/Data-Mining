{
  "nbformat": 4,
  "nbformat_minor": 0,
  "metadata": {
    "colab": {
      "provenance": []
    },
    "kernelspec": {
      "name": "python3",
      "display_name": "Python 3"
    },
    "language_info": {
      "name": "python"
    }
  },
  "cells": [
    {
      "cell_type": "code",
      "execution_count": 1,
      "metadata": {
        "colab": {
          "base_uri": "https://localhost:8080/"
        },
        "id": "-57hVjyrpRj5",
        "outputId": "38f1ee0a-0fc5-4c88-d0d4-8e3744ff84bc"
      },
      "outputs": [
        {
          "output_type": "execute_result",
          "data": {
            "text/plain": [
              "array([[ 0.4911766 ,  0.3636397 ,  0.37809822, ...,  0.41535439,\n",
              "         0.64793504,  0.50583951],\n",
              "       [ 1.39632783,  1.43178836,  1.38412021, ...,  0.84542555,\n",
              "         1.18690811,  0.67765512],\n",
              "       [-0.58058685, -0.36755852, -0.0866899 , ..., -0.72934593,\n",
              "        -0.33252614, -0.44072337],\n",
              "       ...,\n",
              "       [ 1.42372546,  0.65207554,  2.04933949, ...,  0.43594731,\n",
              "         1.06606527,  1.05473797],\n",
              "       [ 1.39222862,  0.99039621,  1.04004292, ...,  1.51321035,\n",
              "         1.5725976 ,  1.44654169],\n",
              "       [-0.82101825, -1.67915237, -0.42537814, ...,         nan,\n",
              "                nan,         nan]])"
            ]
          },
          "metadata": {},
          "execution_count": 1
        }
      ],
      "source": [
        "import pandas as pd\n",
        "import numpy as np\n",
        "import time\n",
        "df = pd.read_csv('Asgmnt1_data.txt', delimiter= '\\s+', header=None)\n",
        "mean = df.mean(axis=1)\n",
        "std = df.std(axis=1)\n",
        "#z-normalize the data -row\n",
        "df_normalized_row = df.sub(mean, axis=0).div(std, axis=0)\n",
        "#data after normalization -row\n",
        "df_normalized_row\n",
        "#Coverting to numpy array for making the computation faster\n",
        "df_normalized_via_row = df_normalized_row.to_numpy()\n",
        "df_normalized_via_row"
      ]
    },
    {
      "cell_type": "code",
      "source": [
        "# Get the number of rows in the dataset\n",
        "num_rows = df_normalized_row.shape[0]\n",
        "\n",
        "# Initialize an empty matrix to store pairwise distances\n",
        "distance_matrix = np.zeros((num_rows, num_rows))\n",
        "\n",
        "# Start timing\n",
        "start_time = time.time()\n",
        "\n",
        "# Loop over each pair of rows and calculate the Euclidean distance\n",
        "for i in range(num_rows):\n",
        "    for j in range(i+1, num_rows):\n",
        "        # Calculate Euclidean distance between row i and row j\n",
        "        distance = np.sqrt(np.sum((df_normalized_via_row[i] - df_normalized_via_row[j])**2))\n",
        "        distance_matrix[i, j] = distance\n",
        "        distance_matrix[j, i] = distance  # Symmetric matrix\n",
        "\n",
        "# End timing\n",
        "end_time = time.time()\n",
        "\n",
        "# Calculate the total time taken\n",
        "total_time = end_time - start_time\n",
        "\n",
        "# Print the total time taken to compute the distances\n",
        "print(f\"Total time taken: {total_time} seconds\")\n"
      ],
      "metadata": {
        "colab": {
          "base_uri": "https://localhost:8080/"
        },
        "id": "LNeb4sF--3VZ",
        "outputId": "40f6f545-7ffa-4fff-efa5-7e71ae5a6dc0"
      },
      "execution_count": 3,
      "outputs": [
        {
          "output_type": "stream",
          "name": "stdout",
          "text": [
            "Total time taken: 743.8335795402527 seconds\n"
          ]
        }
      ]
    },
    {
      "cell_type": "code",
      "source": [
        "import numpy as np\n",
        "\n",
        "def haar_matrix(n):\n",
        "    if n == 1:\n",
        "        return np.array([[1]])  # Base case: 1x1 matrix\n",
        "\n",
        "    # Recursive call to build a smaller Haar matrix (n // 2 x n // 2)\n",
        "    h = haar_matrix(n // 2)\n",
        "\n",
        "    # Construct the larger Haar matrix using Kronecker products\n",
        "    h_n = np.kron(h, [1, 1])       # Top part of the Haar matrix\n",
        "    h_i = np.kron(np.eye(len(h)), [1, -1])  # Bottom part of the Haar matrix\n",
        "\n",
        "    # Stack the two parts vertically\n",
        "    h = np.vstack((h_n, h_i))\n",
        "\n",
        "    h = np.where(np.abs(h) < 1e-10, 0,h)\n",
        "\n",
        "    return h\n",
        "\n",
        "# Example: Haar matrix of size 128\n",
        "H_128 = haar_matrix(128)\n",
        "print(H_128)\n",
        "\n",
        "wavelet_transformed_data = np.dot(df_normalized_via_row, H_128.T)\n",
        "\n",
        "# Extract the first 4 coefficients from each row of the transformed data\n",
        "first_4_coeffs = wavelet_transformed_data[:, :4]\n",
        "\n",
        "#Euclidean Distance\n",
        "def calculate_distance_matrix(data):\n",
        "    num_rows = data.shape[0]\n",
        "    distance_matrix = np.zeros((num_rows, num_rows))\n",
        "\n",
        "    # Calculate Euclidean distance manually\n",
        "    for i in range(num_rows):\n",
        "        for j in range(i+1, num_rows):\n",
        "            distance = np.sqrt(np.sum((data[i] - data[j])**2))\n",
        "            distance_matrix[i, j] = distance\n",
        "            distance_matrix[j, i] = distance  # Symmetric matrix\n",
        "\n",
        "    return distance_matrix\n",
        "\n",
        "start_time_haar = time.time()\n",
        "distance_matrix_haar = calculate_distance_matrix(first_4_coeffs)\n",
        "end_time_haar = time.time()\n",
        "total_time_haar = end_time_haar - start_time_haar\n",
        "print(f\"Total time taken: {total_time_haar} seconds\")"
      ],
      "metadata": {
        "colab": {
          "base_uri": "https://localhost:8080/"
        },
        "id": "Hjgz4-hnpXN1",
        "outputId": "6ea85063-38b7-471b-de6f-ed7d40a63a25"
      },
      "execution_count": 5,
      "outputs": [
        {
          "output_type": "stream",
          "name": "stdout",
          "text": [
            "[[ 1.  1.  1. ...  1.  1.  1.]\n",
            " [ 1.  1.  1. ... -1. -1. -1.]\n",
            " [ 1.  1.  1. ...  0.  0.  0.]\n",
            " ...\n",
            " [ 0.  0.  0. ...  0.  0.  0.]\n",
            " [ 0.  0.  0. ... -1.  0.  0.]\n",
            " [ 0.  0.  0. ...  0.  1. -1.]]\n",
            "Total time taken: 642.1854093074799 seconds\n"
          ]
        }
      ]
    },
    {
      "cell_type": "code",
      "source": [
        "import numpy as np\n",
        "df = pd.read_csv('Asgmnt1_data.txt', delimiter= '\\s+', header=None)\n",
        "mean = df.mean()\n",
        "std = df.std()\n",
        "#z-normalize the data\n",
        "df_normalized_column = (df - mean) / std\n",
        "\n",
        "#data after normalization(column-wise)\n",
        "df_normalized_column\n",
        "#Normalized data\n",
        "df_normalized_via_column = df_normalized_column.to_numpy()\n",
        "\n",
        "#Calculate the covaraince Matrix\n",
        "covariance_matrix = np.cov(df_normalized_via_column.T)\n",
        "\n",
        "# Step 3: Compute eigenvalues and eigenvectors\n",
        "eigenvalues, eigenvectors = np.linalg.eig(covariance_matrix)\n",
        "print(\"\\nEigenvalues:\")\n",
        "print(eigenvalues)\n",
        "print(\"\\nEigenvectors:\")\n",
        "print(eigenvectors)\n",
        "\n",
        "#Compute eigenvalues and eigenvectores\n",
        "sorted_indices = np.argsort(eigenvalues)[::-1]  # Sort in decreasing order\n",
        "sorted_eigenvalues = eigenvalues[sorted_indices]\n",
        "sorted_eigenvectors = eigenvectors[:, sorted_indices]\n",
        "\n",
        "#Taking the four best component\n",
        "projection_matrix = sorted_eigenvectors[:, 4]\n",
        "\n",
        "# Step 6: Transform the data\n",
        "pca_transformed_data = np.dot(df_normalized_via_column, projection_matrix)\n",
        "\n",
        "#Start Timing\n",
        "start_time_pca = time.time()\n",
        "\n",
        "#Calculating the euclidean distance\n",
        "distance_matrix_pca = calculate_distance_matrix(pca_transformed_data)\n",
        "\n",
        "#End Timing\n",
        "end_time_pca = time.time()\n",
        "\n",
        "#Calculate the total time taken\n",
        "total_time_pca = end_time_pca - start_time_pca\n",
        "\n",
        "# Print the total time taken to compute the distances\n",
        "print(f\"Total time taken: {total_time_pca} seconds\")\n",
        "\n",
        "\n",
        "\n"
      ],
      "metadata": {
        "colab": {
          "base_uri": "https://localhost:8080/"
        },
        "id": "AH6Jc7L2_1zF",
        "outputId": "53e873bb-92aa-4fe7-df00-29753b0947d2"
      },
      "execution_count": 6,
      "outputs": [
        {
          "output_type": "stream",
          "name": "stdout",
          "text": [
            "\n",
            "Eigenvalues:\n",
            "[15.75853108 15.49237748 14.64556782 15.23780446 14.93670024 14.98608171\n",
            " 15.03749835 15.09203417  0.06702205  0.04730519  0.06625801  0.06559853\n",
            "  0.06551893  0.04776062  0.04816555  0.04837356  0.06554934  0.06514276\n",
            "  0.06501041  0.06453494  0.04869488  0.04880068  0.06429286  0.06401076\n",
            "  0.06371539  0.06365308  0.04906479  0.04926638  0.04947537  0.0496184\n",
            "  0.0633893   0.06327601  0.04987207  0.04998513  0.0631074   0.06302514\n",
            "  0.05013238  0.05031353  0.06277233  0.06250616  0.06250895  0.05056675\n",
            "  0.05072494  0.05077392  0.06223782  0.06211791  0.05093404  0.06181665\n",
            "  0.05111389  0.06164216  0.05133244  0.06160703  0.06141289  0.05135011\n",
            "  0.05143669  0.06120095  0.05159326  0.05179837  0.06112103  0.0611281\n",
            "  0.06107008  0.05191324  0.0608873   0.06077231  0.06070176  0.06060993\n",
            "  0.05225682  0.06044081  0.05231422  0.06016603  0.06003234  0.06009866\n",
            "  0.0525527   0.05263988  0.05272699  0.0596395   0.05296504  0.0593632\n",
            "  0.05931893  0.05923106  0.05308891  0.05309759  0.05329228  0.05327665\n",
            "  0.05353594  0.05905638  0.05895257  0.05876199  0.05887855  0.05371628\n",
            "  0.05847157  0.05389837  0.05402496  0.05419076  0.05839155  0.05415488\n",
            "  0.05824311  0.05444293  0.05815326  0.05457997  0.05464329  0.05410479\n",
            "  0.05482216  0.05801294  0.05786649  0.05774087  0.05500903  0.05509565\n",
            "  0.05643625  0.05662161  0.05762366  0.05526482  0.05634514  0.05708183\n",
            "  0.05716759  0.05550682  0.05617069  0.05539524  0.0568923   0.05577052\n",
            "  0.05596069  0.05684428  0.05533615  0.05584252  0.05598874  0.0573978\n",
            "  0.05741379  0.05750987]\n",
            "\n",
            "Eigenvectors:\n",
            "[[ 0.07913051 -0.08751561 -0.04351854 ...  0.0164233   0.0171595\n",
            "  -0.00462108]\n",
            " [ 0.08529121 -0.07359506 -0.02657718 ...  0.02188933 -0.15206996\n",
            "   0.10239281]\n",
            " [ 0.09039356 -0.0593318  -0.00883588 ...  0.00994038  0.02742631\n",
            "  -0.09055892]\n",
            " ...\n",
            " [ 0.05806606 -0.12087907 -0.08535385 ... -0.01629723 -0.03081155\n",
            "   0.00837342]\n",
            " [ 0.06619848 -0.11100006 -0.07306401 ...  0.0856909  -0.26376634\n",
            "  -0.06572615]\n",
            " [ 0.07199421 -0.09942695 -0.05782089 ... -0.08059931  0.05847626\n",
            "   0.13782207]]\n",
            "Total time taken: 990.4602847099304 seconds\n"
          ]
        }
      ]
    },
    {
      "cell_type": "code",
      "source": [
        "import numpy as np\n",
        "import random\n",
        "\n",
        "#Number of random pairs for comparing\n",
        "num_pairs = 1600000\n",
        "size = distance_matrix.shape[0]  # Assuming square matrices\n",
        "\n",
        "# Function to compare pairs and count valid relationships\n",
        "def check_relationships(euclidean, haar, pca, num_pairs):\n",
        "    count_haar = 0\n",
        "    count_pca = 0\n",
        "\n",
        "    for _ in range(num_pairs):\n",
        "        # Randomly pick two pairs of indices (i, j) and (k, l)\n",
        "        i, j = random.randint(0, size-1), random.randint(0, size-1)\n",
        "        k, l = random.randint(0, size-1), random.randint(0, size-1)\n",
        "\n",
        "        # Get the Euclidean relationship\n",
        "        euclidean_relationship = euclidean[i,j] > euclidean[k,l]\n",
        "        haar_relationship = haar[i,j] > haar[k,l]\n",
        "        pca_relationship = pca[i,j] > pca[k,l]\n",
        "        # Check if the Haar relationship matches the Euclidean relationship\n",
        "        if haar_relationship == euclidean_relationship:\n",
        "            count_haar += 1\n",
        "\n",
        "        # Check if the PCA relationship matches the Euclidean relationship\n",
        "        if pca_relationship == euclidean_relationship:\n",
        "            count_pca += 1\n",
        "\n",
        "    # Compute the percentage of times the relationships hold\n",
        "    haar_percentage = (count_haar / num_pairs) * 100\n",
        "    pca_percentage = (count_pca / num_pairs) * 100\n",
        "\n",
        "    return haar_percentage, pca_percentage\n",
        "\n",
        "# Call the function and get the results\n",
        "haar_percentage, pca_percentage = check_relationships(distance_matrix, distance_matrix_haar, distance_matrix_pca, num_pairs)\n",
        "\n",
        "# Display the result\n",
        "print(f\"Haar holds {haar_percentage}%.\")\n",
        "print(f\"PCA  holds {pca_percentage}%.\")\n"
      ],
      "metadata": {
        "colab": {
          "base_uri": "https://localhost:8080/"
        },
        "id": "4_XZXUdrqYc2",
        "outputId": "ccad197c-4fd7-4730-9a09-bccb9b0ccbfb"
      },
      "execution_count": 7,
      "outputs": [
        {
          "output_type": "stream",
          "name": "stdout",
          "text": [
            "Haar holds 60.4576875%.\n",
            "PCA  holds 55.2965%.\n"
          ]
        }
      ]
    }
  ]
}